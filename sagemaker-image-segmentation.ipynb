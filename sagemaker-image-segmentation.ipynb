{
 "cells": [
  {
   "cell_type": "code",
   "execution_count": 42,
   "metadata": {},
   "outputs": [],
   "source": [
    "import sagemaker\n",
    "import boto3\n",
    "from sagemaker import get_execution_role\n",
    "from sagemaker.amazon.amazon_estimator import get_image_uri\n",
    "import os\n",
    "import shutil\n",
    "import glob\n",
    "import json"
   ]
  },
  {
   "cell_type": "code",
   "execution_count": 5,
   "metadata": {},
   "outputs": [],
   "source": [
    "role = 'AmazonSageMaker-ExecutionRole-20190815T111389'\n",
    "session = sagemaker.Session()"
   ]
  },
  {
   "cell_type": "code",
   "execution_count": 7,
   "metadata": {},
   "outputs": [
    {
     "name": "stdout",
     "output_type": "stream",
     "text": [
      "sagemaker-us-east-1-756448110530\n"
     ]
    }
   ],
   "source": [
    "bucket = session.default_bucket()\n",
    "prefix = 'semantic-segmentation'\n",
    "print(bucket)"
   ]
  },
  {
   "cell_type": "code",
   "execution_count": 20,
   "metadata": {},
   "outputs": [
    {
     "name": "stdout",
     "output_type": "stream",
     "text": [
      "811284229777.dkr.ecr.us-east-1.amazonaws.com/semantic-segmentation:1\n"
     ]
    }
   ],
   "source": [
    "training_image = get_image_uri(session.boto_region_name, 'semantic-segmentation')\n",
    "print(training_image)"
   ]
  },
  {
   "cell_type": "code",
   "execution_count": 21,
   "metadata": {
    "scrolled": true
   },
   "outputs": [
    {
     "name": "stdout",
     "output_type": "stream",
     "text": [
      "Warning: Failed to set locale category LC_NUMERIC to en_IN.\n",
      "Warning: Failed to set locale category LC_TIME to en_IN.\n",
      "Warning: Failed to set locale category LC_COLLATE to en_IN.\n",
      "Warning: Failed to set locale category LC_MONETARY to en_IN.\n",
      "Warning: Failed to set locale category LC_MESSAGES to en_IN.\n",
      "--2020-04-23 16:36:22--  http://host.robots.ox.ac.uk/pascal/VOC/voc2012/VOCtrainval_11-May-2012.tar\n",
      "Resolving host.robots.ox.ac.uk (host.robots.ox.ac.uk)... 129.67.94.152\n",
      "Connecting to host.robots.ox.ac.uk (host.robots.ox.ac.uk)|129.67.94.152|:80... connected.\n",
      "HTTP request sent, awaiting response... 200 OK\n",
      "Length: 1999639040 (1.9G) [application/x-tar]\n",
      "Saving to: ‘/tmp/VOCtrainval_11-May-2012.tar’\n",
      "\n",
      "VOCtrainval_11-May- 100%[===================>]   1.86G  2.52MB/s    in 16m 30s \n",
      "\n",
      "2020-04-23 16:52:52 (1.93 MB/s) - ‘/tmp/VOCtrainval_11-May-2012.tar’ saved [1999639040/1999639040]\n",
      "\n",
      "CPU times: user 34.1 s, sys: 10.7 s, total: 44.8 s\n",
      "Wall time: 16min 45s\n"
     ]
    }
   ],
   "source": [
    "%%time\n",
    "\n",
    "# comment this if data is already downloaded\n",
    "# Download the dataset\n",
    "# !wget -P /tmp http://host.robots.ox.ac.uk/pascal/VOC/voc2012/VOCtrainval_11-May-2012.tar    \n",
    "# # Extract the data.\n",
    "# !tar -xf /tmp/VOCtrainval_11-May-2012.tar && rm /tmp/VOCtrainval_11-May-2012.tar"
   ]
  },
  {
   "cell_type": "code",
   "execution_count": 30,
   "metadata": {},
   "outputs": [],
   "source": [
    "# create directories for copying to S3\n",
    "VOC2012 = 'VOCdevkit/VOC2012'\n",
    "os.makedirs('train', exist_ok=True)\n",
    "os.makedirs('validation', exist_ok=True)\n",
    "os.makedirs('train_annotation', exist_ok=True)\n",
    "os.makedirs('validation_annotation', exist_ok=True)"
   ]
  },
  {
   "cell_type": "code",
   "execution_count": 29,
   "metadata": {},
   "outputs": [],
   "source": [
    "# load train and validation file lists\n",
    "filename = VOC2012 + '/ImageSets/Segmentation/train.txt'\n",
    "with open(filename) as f:\n",
    "    train_list = f.read().splitlines()\n",
    "    \n",
    "filename = VOC2012 + '/ImageSets/Segmentation/val.txt'\n",
    "with open(filename) as f:\n",
    "    val_list = f.read().splitlines()"
   ]
  },
  {
   "cell_type": "code",
   "execution_count": 31,
   "metadata": {},
   "outputs": [],
   "source": [
    "# copy training images\n",
    "for image in train_list:\n",
    "    shutil.copy2(VOC2012 + '/JPEGImages/' + image + '.jpg', 'train/')\n",
    "    shutil.copy2(VOC2012 + '/SegmentationClass/' + image + '.png', 'train_annotation/')"
   ]
  },
  {
   "cell_type": "code",
   "execution_count": 32,
   "metadata": {},
   "outputs": [],
   "source": [
    "# copy validation images\n",
    "for image in val_list:\n",
    "    shutil.copy2(VOC2012 + '/JPEGImages/' + image + '.jpg', 'validation/')\n",
    "    shutil.copy2(VOC2012 + '/SegmentationClass/' + image + '.png', 'validation_annotation/')"
   ]
  },
  {
   "cell_type": "code",
   "execution_count": 46,
   "metadata": {},
   "outputs": [
    {
     "name": "stdout",
     "output_type": "stream",
     "text": [
      "1464\n",
      "1449\n"
     ]
    }
   ],
   "source": [
    "# verify train/validation and annotation image count\n",
    "num_training_samples = len(glob.glob1('train', \"*.jpg\"))\n",
    "print(num_training_samples)\n",
    "\n",
    "assert num_training_samples == len(glob.glob1('train_annotation', \"*.png\"))\n",
    "\n",
    "num_validation_samples = len(glob.glob1('validation', \"*.jpg\"))\n",
    "print(num_validation_samples)\n",
    "\n",
    "assert num_validation_samples == len(glob.glob1('validation_annotation', \"*.png\"))"
   ]
  },
  {
   "cell_type": "code",
   "execution_count": 47,
   "metadata": {},
   "outputs": [],
   "source": [
    "# create label map\n",
    "label_map = {'scale': 1}\n",
    "with open('train_label_map.json', 'w') as f:\n",
    "    json.dump(label_map, f)"
   ]
  },
  {
   "cell_type": "code",
   "execution_count": 49,
   "metadata": {},
   "outputs": [],
   "source": [
    "train_channel = prefix + '/train'\n",
    "validation_channel = prefix + '/validation'\n",
    "train_annotation_channel = prefix + '/train_validation'\n",
    "validation_annotation_channel = prefix + '/validation_annotation'"
   ]
  },
  {
   "cell_type": "code",
   "execution_count": 51,
   "metadata": {},
   "outputs": [
    {
     "data": {
      "text/plain": [
       "'s3://sagemaker-us-east-1-756448110530/semantic-segmentation/train'"
      ]
     },
     "execution_count": 51,
     "metadata": {},
     "output_type": "execute_result"
    }
   ],
   "source": [
    "session.upload_data(path='train', bucket=bucket, key_prefix=train_channel)"
   ]
  },
  {
   "cell_type": "code",
   "execution_count": 52,
   "metadata": {},
   "outputs": [
    {
     "data": {
      "text/plain": [
       "'s3://sagemaker-us-east-1-756448110530/semantic-segmentation/validation'"
      ]
     },
     "execution_count": 52,
     "metadata": {},
     "output_type": "execute_result"
    }
   ],
   "source": [
    "session.upload_data(path='validation', bucket=bucket, key_prefix=validation_channel)"
   ]
  },
  {
   "cell_type": "code",
   "execution_count": 54,
   "metadata": {},
   "outputs": [
    {
     "data": {
      "text/plain": [
       "'s3://sagemaker-us-east-1-756448110530/semantic-segmentation/train_validation'"
      ]
     },
     "execution_count": 54,
     "metadata": {},
     "output_type": "execute_result"
    }
   ],
   "source": [
    "session.upload_data(path='train_annotation', bucket=bucket, key_prefix=train_annotation_channel)"
   ]
  },
  {
   "cell_type": "code",
   "execution_count": 55,
   "metadata": {},
   "outputs": [
    {
     "data": {
      "text/plain": [
       "'s3://sagemaker-us-east-1-756448110530/semantic-segmentation/validation_annotation'"
      ]
     },
     "execution_count": 55,
     "metadata": {},
     "output_type": "execute_result"
    }
   ],
   "source": [
    "session.upload_data(path='validation_annotation', bucket=bucket, key_prefix=validation_annotation_channel)"
   ]
  },
  {
   "cell_type": "code",
   "execution_count": 58,
   "metadata": {},
   "outputs": [
    {
     "name": "stdout",
     "output_type": "stream",
     "text": [
      "s3://sagemaker-us-east-1-756448110530/semantic-segmentation/output\n"
     ]
    }
   ],
   "source": [
    "s3_output_location = 's3://{}/{}/output'.format(bucket, prefix)\n",
    "print(s3_output_location)"
   ]
  },
  {
   "cell_type": "code",
   "execution_count": 59,
   "metadata": {},
   "outputs": [],
   "source": [
    "ss_model = sagemaker.estimator.Estimator(training_image,\n",
    "                                        role,\n",
    "                                        train_instance_count=1,\n",
    "                                        train_instance_type='ml.p2.xlarge',\n",
    "                                        train_use_spot_instances=True,\n",
    "                                        train_volume_size=50,\n",
    "                                        train_max_run=3600,\n",
    "                                        train_max_wait=5400,\n",
    "                                        output_path=s3_output_location,\n",
    "                                        base_job_name='ss-job',\n",
    "                                        sagemaker_session=session)"
   ]
  },
  {
   "cell_type": "code",
   "execution_count": 76,
   "metadata": {},
   "outputs": [],
   "source": [
    "ss_model.set_hyperparameters(backbone='resnet-50',\n",
    "                             algorithm='deeplab',\n",
    "                             use_pretrained_model=True,\n",
    "                             crop_size=240,\n",
    "                             num_classes=21,\n",
    "                             epochs=10,\n",
    "                             learning_rate=0.0001,\n",
    "                             optimizer='rmsprop',\n",
    "                             lr_scheduler='poly',\n",
    "                             mini_batch_size=16,\n",
    "                             validation_mini_batch_size=16,\n",
    "                             early_stopping=True,\n",
    "                             early_stopping_patience=2,\n",
    "                             early_stopping_min_epochs=1,\n",
    "                             num_training_samples=num_training_samples)"
   ]
  },
  {
   "cell_type": "code",
   "execution_count": 77,
   "metadata": {},
   "outputs": [],
   "source": [
    "s3_train_data = 's3://{}/{}'.format(bucket, train_channel)\n",
    "s3_validation_data = 's3://{}/{}'.format(bucket, validation_channel)\n",
    "s3_train_annotation = 's3://{}/{}'.format(bucket, train_annotation_channel)\n",
    "s3_validation_annotation = 's3://{}/{}'.format(bucket, validation_annotation_channel)\n",
    "\n",
    "distribution = 'FullyReplicated'\n",
    "\n",
    "train_data = sagemaker.session.s3_input(s3_train_data,\n",
    "                                        distribution=distribution,\n",
    "                                        content_type='image/jpeg',\n",
    "                                        s3_data_type='S3Prefix')\n",
    "\n",
    "validation_data = sagemaker.session.s3_input(s3_validation_data,\n",
    "                                        distribution=distribution,\n",
    "                                        content_type='image/jpeg',\n",
    "                                        s3_data_type='S3Prefix')\n",
    "\n",
    "train_annotation = sagemaker.session.s3_input(s3_train_annotation,\n",
    "                                        distribution=distribution,\n",
    "                                        content_type='image/jpeg',\n",
    "                                        s3_data_type='S3Prefix')\n",
    "\n",
    "validation_annotation = sagemaker.session.s3_input(s3_validation_annotation,\n",
    "                                        distribution=distribution,\n",
    "                                        content_type='image/jpeg',\n",
    "                                        s3_data_type='S3Prefix')\n",
    "\n",
    "data_channels = {\n",
    "    'train': train_data,\n",
    "    'validation': validation_data,\n",
    "    'train_annotation': train_annotation,\n",
    "    'validation_annotation': validation_annotation\n",
    "}"
   ]
  },
  {
   "cell_type": "code",
   "execution_count": 78,
   "metadata": {},
   "outputs": [
    {
     "name": "stdout",
     "output_type": "stream",
     "text": [
      "2020-04-23 19:07:28 Starting - Starting the training job...\n",
      "2020-04-23 19:07:30 Starting - Launching requested ML instances......\n",
      "2020-04-23 19:08:38 Starting - Preparing the instances for training..\n",
      "2020-04-23 19:09:49 Downloading - Downloading input data......\n",
      "2020-04-23 19:11:03 Training - Downloading the training image..\u001b[34mDocker entrypoint called with argument(s): train\u001b[0m\n",
      "\u001b[34mRunning default environment configuration script\u001b[0m\n",
      "\u001b[34mRunning custom environment configuration script\u001b[0m\n",
      "\u001b[34m[04/23/2020 19:11:43 INFO 140525295597376] Reading default configuration from /opt/amazon/lib/python2.7/site-packages/algorithm/default-input.json: {u'syncbn': u'False', u'gamma2': u'0.9', u'gamma1': u'0.9', u'early_stopping_min_epochs': u'5', u'epochs': u'10', u'_workers': u'16', u'_num_kv_servers': u'auto', u'weight_decay': u'0.0001', u'crop_size': u'240', u'use_pretrained_model': u'True', u'_aux_weight': u'0.5', u'_hybrid': u'False', u'_augmentation_type': u'default', u'lr_scheduler': u'poly', u'early_stopping_patience': u'4', u'momentum': u'0.9', u'optimizer': u'sgd', u'early_stopping_tolerance': u'0.0', u'learning_rate': u'0.001', u'backbone': u'resnet-50', u'validation_mini_batch_size': u'16', u'_aux_loss': u'True', u'mini_batch_size': u'16', u'early_stopping': u'False', u'algorithm': u'fcn', u'_logging_frequency': u'20', u'num_training_samples': u'8', u'_kvstore': u'device', u'precision_dtype': u'float32'}\u001b[0m\n",
      "\u001b[34m[04/23/2020 19:11:43 INFO 140525295597376] Merging with provided configuration from /opt/ml/input/config/hyperparameters.json: {u'learning_rate': u'0.0001', u'optimizer': u'rmsprop', u'algorithm': u'deeplab', u'lr_scheduler': u'poly', u'use_pretrained_model': u'True', u'backbone': u'resnet-50', u'early_stopping_min_epochs': u'1', u'epochs': u'10', u'validation_mini_batch_size': u'16', u'num_training_samples': u'1464', u'num_classes': u'21', u'mini_batch_size': u'16', u'early_stopping_patience': u'2', u'early_stopping': u'True', u'crop_size': u'240'}\u001b[0m\n",
      "\u001b[34m[04/23/2020 19:11:43 INFO 140525295597376] Final configuration: {u'syncbn': u'False', u'gamma2': u'0.9', u'gamma1': u'0.9', u'early_stopping_min_epochs': u'1', u'epochs': u'10', u'_workers': u'16', u'_num_kv_servers': u'auto', u'weight_decay': u'0.0001', u'crop_size': u'240', u'use_pretrained_model': u'True', u'_aux_weight': u'0.5', u'_hybrid': u'False', u'_augmentation_type': u'default', u'lr_scheduler': u'poly', u'num_classes': u'21', u'early_stopping_patience': u'2', u'momentum': u'0.9', u'optimizer': u'rmsprop', u'early_stopping_tolerance': u'0.0', u'learning_rate': u'0.0001', u'backbone': u'resnet-50', u'validation_mini_batch_size': u'16', u'_aux_loss': u'True', u'mini_batch_size': u'16', u'early_stopping': u'True', u'algorithm': u'deeplab', u'_logging_frequency': u'20', u'num_training_samples': u'1464', u'_kvstore': u'device', u'precision_dtype': u'float32'}\u001b[0m\n",
      "\u001b[34mProcess 1 is a worker.\u001b[0m\n",
      "\u001b[34m[04/23/2020 19:11:43 INFO 140525295597376] Using default worker.\u001b[0m\n",
      "\u001b[34m[04/23/2020 19:11:43 INFO 140525295597376] font search path ['/opt/amazon/lib/python2.7/site-packages/matplotlib/mpl-data/fonts/ttf', '/opt/amazon/lib/python2.7/site-packages/matplotlib/mpl-data/fonts/afm', '/opt/amazon/lib/python2.7/site-packages/matplotlib/mpl-data/fonts/pdfcorefonts']\u001b[0m\n",
      "\u001b[34m[04/23/2020 19:11:43 INFO 140525295597376] generated new fontManager\u001b[0m\n",
      "\u001b[34m[04/23/2020 19:11:44 INFO 140525295597376] Loaded iterator creator application/x-image for content type ('application/x-image', '1.0')\u001b[0m\n",
      "\u001b[34m[04/23/2020 19:11:44 INFO 140525295597376] Loaded iterator creator application/x-recordio for content type ('application/x-recordio', '1.0')\u001b[0m\n",
      "\u001b[34m[04/23/2020 19:11:44 INFO 140525295597376] Loaded iterator creator image/png for content type ('image/png', '1.0')\u001b[0m\n",
      "\u001b[34m[04/23/2020 19:11:44 INFO 140525295597376] Loaded iterator creator application/json for content type ('application/json', '1.0')\u001b[0m\n",
      "\u001b[34m[04/23/2020 19:11:44 INFO 140525295597376] Loaded iterator creator image/jpeg for content type ('image/jpeg', '1.0')\u001b[0m\n",
      "\u001b[34m[04/23/2020 19:11:44 INFO 140525295597376] Checkpoint loading and saving are disabled.\u001b[0m\n",
      "\u001b[34m[04/23/2020 19:11:44 WARNING 140525295597376] /opt/ml/input/data/train/train_validation is not a readable image file\u001b[0m\n",
      "\u001b[34m[04/23/2020 19:11:45 WARNING 140525295597376] label maps not provided, using defaults.\u001b[0m\n",
      "\u001b[34m[04/23/2020 19:11:45 INFO 140525295597376] #label_map train :{'scale': 1}\u001b[0m\n",
      "\u001b[34m[04/23/2020 19:11:45 WARNING 140525295597376] /opt/ml/input/data/validation/validation_annotation is not a readable image file\u001b[0m\n",
      "\u001b[34m[04/23/2020 19:11:46 WARNING 140525295597376] label maps not provided, using defaults.\u001b[0m\n",
      "\u001b[34m[04/23/2020 19:11:46 INFO 140525295597376] #label_map validation :{'scale': 1}\u001b[0m\n",
      "\u001b[34m[04/23/2020 19:11:46 INFO 140525295597376] nvidia-smi took: 0.0252101421356 secs to identify 1 gpus\u001b[0m\n",
      "\u001b[34m[04/23/2020 19:11:46 INFO 140525295597376] Number of GPUs being used: 1\u001b[0m\n",
      "\u001b[34m[04/23/2020 19:11:46 INFO 140525295597376] Number of GPUs being used: 1\u001b[0m\n",
      "\u001b[34m[19:11:48] /opt/brazil-pkg-cache/packages/AIAlgorithmsMXNet/AIAlgorithmsMXNet-1.4.x.1160.0/AL2012/generic-flavor/src/src/storage/storage.cc:108: Using GPUPooledRoundedStorageManager.\u001b[0m\n",
      "\n",
      "2020-04-23 19:11:39 Training - Training image download completed. Training in progress.\u001b[34m[04/23/2020 19:11:52 INFO 140525295597376] LRScheduler setup: iters per epoch: 91, num_epochs 10\u001b[0m\n",
      "\u001b[34m#metrics {\"Metrics\": {\"Max Batches Seen Between Resets\": {\"count\": 1, \"max\": 0, \"sum\": 0.0, \"min\": 0}, \"Number of Batches Since Last Reset\": {\"count\": 1, \"max\": 0, \"sum\": 0.0, \"min\": 0}, \"Number of Records Since Last Reset\": {\"count\": 1, \"max\": 0, \"sum\": 0.0, \"min\": 0}, \"Total Batches Seen\": {\"count\": 1, \"max\": 0, \"sum\": 0.0, \"min\": 0}, \"Total Records Seen\": {\"count\": 1, \"max\": 0, \"sum\": 0.0, \"min\": 0}, \"Max Records Seen Between Resets\": {\"count\": 1, \"max\": 0, \"sum\": 0.0, \"min\": 0}, \"Reset Count\": {\"count\": 1, \"max\": 0, \"sum\": 0.0, \"min\": 0}}, \"EndTime\": 1587669112.186597, \"Dimensions\": {\"Host\": \"algo-1\", \"Meta\": \"init_train_data_iter\", \"Operation\": \"training\", \"Algorithm\": \"AWS/Semantic Segmentation\"}, \"StartTime\": 1587669112.186452}\n",
      "\u001b[0m\n",
      "\u001b[34m[04/23/2020 19:12:54 INFO 140525295597376] #progress_notice. epoch: 0, iterations: 20 speed: 5.6810370866 samples/sec learning_rate: 0.000098\u001b[0m\n",
      "\u001b[34m[04/23/2020 19:13:53 INFO 140525295597376] #progress_notice. epoch: 0, iterations: 40 speed: 5.6766030754 samples/sec learning_rate: 0.000096\u001b[0m\n",
      "\u001b[34m[04/23/2020 19:14:52 INFO 140525295597376] #progress_notice. epoch: 0, iterations: 60 speed: 5.66766100851 samples/sec learning_rate: 0.000094\u001b[0m\n",
      "\u001b[34m[04/23/2020 19:15:51 INFO 140525295597376] #progress_notice. epoch: 0, iterations: 80 speed: 5.65829476125 samples/sec learning_rate: 0.000092\u001b[0m\n",
      "\u001b[34m[04/23/2020 19:16:24 INFO 140525295597376] #quality_metric. host: algo-1, epoch: 0, train loss: 1.5696430573096642 .\u001b[0m\n",
      "\u001b[34m[04/23/2020 19:16:24 INFO 140525295597376] #throughput_metric. host: algo-1, epoch: 0, train throughput: 5.41777422661 samples/sec.\u001b[0m\n",
      "\u001b[34m[04/23/2020 19:16:50 INFO 140525295597376] #progress_notice. epoch: 0, iterations: 20 speed: 14.1555094783 samples/sec\u001b[0m\n",
      "\u001b[34m[04/23/2020 19:17:12 INFO 140525295597376] #progress_notice. epoch: 0, iterations: 40 speed: 14.1434478857 samples/sec\u001b[0m\n",
      "\u001b[34m[04/23/2020 19:17:35 INFO 140525295597376] #progress_notice. epoch: 0, iterations: 60 speed: 14.1283603582 samples/sec\u001b[0m\n",
      "\u001b[34m[04/23/2020 19:17:58 INFO 140525295597376] #progress_notice. epoch: 0, iterations: 80 speed: 14.0622874958 samples/sec\u001b[0m\n",
      "\u001b[34m[04/23/2020 19:18:09 INFO 140525295597376] #quality_metric. host: algo-1, epoch: 0, validation pixel_accuracy: 0.7993063888453072 .\u001b[0m\n",
      "\u001b[34m[04/23/2020 19:18:09 INFO 140525295597376] #quality_metric. host: algo-1, epoch: 0, validation mIOU: 0.454979086771904 .\u001b[0m\n",
      "\u001b[34m[04/23/2020 19:18:09 INFO 140525295597376] #throughput_metric. host: algo-1, epoch: 0, validation throughput: 13.9767656584 samples/sec.\u001b[0m\n",
      "\u001b[34m[04/23/2020 19:18:09 INFO 140525295597376] Serializing model to /opt/ml/model/model_best.params\u001b[0m\n",
      "\u001b[34m[04/23/2020 19:18:10 INFO 140525295597376] Serializing model to /opt/ml/model/model_best.params\u001b[0m\n",
      "\u001b[34m[04/23/2020 19:18:10 INFO 140525295597376] #progress_metric: host=algo-1, completed 10 % of epochs\u001b[0m\n",
      "\u001b[34m#metrics {\"Metrics\": {\"Max Batches Seen Between Resets\": {\"count\": 1, \"max\": 0, \"sum\": 0.0, \"min\": 0}, \"Number of Batches Since Last Reset\": {\"count\": 1, \"max\": 0, \"sum\": 0.0, \"min\": 0}, \"Number of Records Since Last Reset\": {\"count\": 1, \"max\": 0, \"sum\": 0.0, \"min\": 0}, \"Total Batches Seen\": {\"count\": 1, \"max\": 0, \"sum\": 0.0, \"min\": 0}, \"Total Records Seen\": {\"count\": 1, \"max\": 0, \"sum\": 0.0, \"min\": 0}, \"Max Records Seen Between Resets\": {\"count\": 1, \"max\": 0, \"sum\": 0.0, \"min\": 0}, \"Reset Count\": {\"count\": 1, \"max\": 1, \"sum\": 1.0, \"min\": 1}}, \"EndTime\": 1587669490.304203, \"Dimensions\": {\"Host\": \"algo-1\", \"Meta\": \"training_data_iter\", \"Operation\": \"training\", \"Algorithm\": \"AWS/Semantic Segmentation\", \"epoch\": 0}, \"StartTime\": 1587669112.187129}\n",
      "\u001b[0m\n"
     ]
    },
    {
     "name": "stdout",
     "output_type": "stream",
     "text": [
      "\u001b[34m[04/23/2020 19:19:12 INFO 140525295597376] #progress_notice. epoch: 1, iterations: 20 speed: 5.19462839549 samples/sec learning_rate: 0.000089\u001b[0m\n",
      "\u001b[34m[04/23/2020 19:20:11 INFO 140525295597376] #progress_notice. epoch: 1, iterations: 40 speed: 5.18814988263 samples/sec learning_rate: 0.000087\u001b[0m\n",
      "\u001b[34m[04/23/2020 19:21:11 INFO 140525295597376] #progress_notice. epoch: 1, iterations: 60 speed: 5.18597406351 samples/sec learning_rate: 0.000085\u001b[0m\n",
      "\u001b[34m[04/23/2020 19:22:10 INFO 140525295597376] #progress_notice. epoch: 1, iterations: 80 speed: 5.17599841733 samples/sec learning_rate: 0.000083\u001b[0m\n",
      "\u001b[34m[04/23/2020 19:22:46 INFO 140525295597376] #quality_metric. host: algo-1, epoch: 1, train loss: 1.0069251675968585 .\u001b[0m\n",
      "\u001b[34m[04/23/2020 19:22:46 INFO 140525295597376] #throughput_metric. host: algo-1, epoch: 1, train throughput: 5.39209737048 samples/sec.\u001b[0m\n",
      "\u001b[34m[04/23/2020 19:23:11 INFO 140525295597376] #progress_notice. epoch: 1, iterations: 20 speed: 14.1185842298 samples/sec\u001b[0m\n",
      "\u001b[34m[04/23/2020 19:23:34 INFO 140525295597376] #progress_notice. epoch: 1, iterations: 40 speed: 14.0591234802 samples/sec\u001b[0m\n",
      "\u001b[34m[04/23/2020 19:23:56 INFO 140525295597376] #progress_notice. epoch: 1, iterations: 60 speed: 14.1253151992 samples/sec\u001b[0m\n",
      "\u001b[34m[04/23/2020 19:24:19 INFO 140525295597376] #progress_notice. epoch: 1, iterations: 80 speed: 13.6742319398 samples/sec\u001b[0m\n",
      "\u001b[34m[04/23/2020 19:24:32 INFO 140525295597376] #quality_metric. host: algo-1, epoch: 1, validation pixel_accuracy: 0.8219262148854086 .\u001b[0m\n",
      "\u001b[34m[04/23/2020 19:24:32 INFO 140525295597376] #quality_metric. host: algo-1, epoch: 1, validation mIOU: 0.5115913440582415 .\u001b[0m\n",
      "\u001b[34m[04/23/2020 19:24:32 INFO 140525295597376] #throughput_metric. host: algo-1, epoch: 1, validation throughput: 13.9888235997 samples/sec.\u001b[0m\n",
      "\u001b[34m[04/23/2020 19:24:32 INFO 140525295597376] Serializing model to /opt/ml/model/model_best.params\u001b[0m\n",
      "\u001b[34m[04/23/2020 19:24:32 INFO 140525295597376] #progress_metric: host=algo-1, completed 20 % of epochs\u001b[0m\n",
      "\u001b[34m#metrics {\"Metrics\": {\"Max Batches Seen Between Resets\": {\"count\": 1, \"max\": 0, \"sum\": 0.0, \"min\": 0}, \"Number of Batches Since Last Reset\": {\"count\": 1, \"max\": 0, \"sum\": 0.0, \"min\": 0}, \"Number of Records Since Last Reset\": {\"count\": 1, \"max\": 0, \"sum\": 0.0, \"min\": 0}, \"Total Batches Seen\": {\"count\": 1, \"max\": 0, \"sum\": 0.0, \"min\": 0}, \"Total Records Seen\": {\"count\": 1, \"max\": 0, \"sum\": 0.0, \"min\": 0}, \"Max Records Seen Between Resets\": {\"count\": 1, \"max\": 0, \"sum\": 0.0, \"min\": 0}, \"Reset Count\": {\"count\": 1, \"max\": 2, \"sum\": 2.0, \"min\": 2}}, \"EndTime\": 1587669872.485022, \"Dimensions\": {\"Host\": \"algo-1\", \"Meta\": \"training_data_iter\", \"Operation\": \"training\", \"Algorithm\": \"AWS/Semantic Segmentation\", \"epoch\": 1}, \"StartTime\": 1587669490.304444}\n",
      "\u001b[0m\n",
      "\u001b[34m[04/23/2020 19:25:35 INFO 140525295597376] #progress_notice. epoch: 2, iterations: 20 speed: 5.17348457545 samples/sec learning_rate: 0.000080\u001b[0m\n",
      "\u001b[34m[04/23/2020 19:26:34 INFO 140525295597376] #progress_notice. epoch: 2, iterations: 40 speed: 5.1783804397 samples/sec learning_rate: 0.000078\u001b[0m\n",
      "\u001b[34m[04/23/2020 19:27:33 INFO 140525295597376] #progress_notice. epoch: 2, iterations: 60 speed: 5.18950593149 samples/sec learning_rate: 0.000076\u001b[0m\n",
      "\u001b[34m[04/23/2020 19:28:32 INFO 140525295597376] #progress_notice. epoch: 2, iterations: 80 speed: 5.1755984334 samples/sec learning_rate: 0.000074\u001b[0m\n",
      "\u001b[34m[04/23/2020 19:29:05 INFO 140525295597376] #quality_metric. host: algo-1, epoch: 2, train loss: 0.8781348159025003 .\u001b[0m\n",
      "\u001b[34m[04/23/2020 19:29:05 INFO 140525295597376] #throughput_metric. host: algo-1, epoch: 2, train throughput: 5.39661708835 samples/sec.\u001b[0m\n",
      "\u001b[34m[04/23/2020 19:29:30 INFO 140525295597376] #progress_notice. epoch: 2, iterations: 20 speed: 14.042196353 samples/sec\u001b[0m\n",
      "\u001b[34m[04/23/2020 19:29:53 INFO 140525295597376] #progress_notice. epoch: 2, iterations: 40 speed: 14.0829445121 samples/sec\u001b[0m\n",
      "\u001b[34m[04/23/2020 19:30:16 INFO 140525295597376] #progress_notice. epoch: 2, iterations: 60 speed: 14.0750670365 samples/sec\u001b[0m\n",
      "\u001b[34m[04/23/2020 19:30:39 INFO 140525295597376] #progress_notice. epoch: 2, iterations: 80 speed: 14.0339652384 samples/sec\u001b[0m\n",
      "\u001b[34m[04/23/2020 19:30:50 INFO 140525295597376] #quality_metric. host: algo-1, epoch: 2, validation pixel_accuracy: 0.8452477051818107 .\u001b[0m\n",
      "\u001b[34m[04/23/2020 19:30:50 INFO 140525295597376] #quality_metric. host: algo-1, epoch: 2, validation mIOU: 0.5622585306279108 .\u001b[0m\n",
      "\u001b[34m[04/23/2020 19:30:50 INFO 140525295597376] #throughput_metric. host: algo-1, epoch: 2, validation throughput: 13.8919850678 samples/sec.\u001b[0m\n",
      "\u001b[34m[04/23/2020 19:30:50 INFO 140525295597376] Serializing model to /opt/ml/model/model_best.params\u001b[0m\n",
      "\u001b[34m[04/23/2020 19:30:51 INFO 140525295597376] #progress_metric: host=algo-1, completed 30 % of epochs\u001b[0m\n",
      "\u001b[34m#metrics {\"Metrics\": {\"Max Batches Seen Between Resets\": {\"count\": 1, \"max\": 0, \"sum\": 0.0, \"min\": 0}, \"Number of Batches Since Last Reset\": {\"count\": 1, \"max\": 0, \"sum\": 0.0, \"min\": 0}, \"Number of Records Since Last Reset\": {\"count\": 1, \"max\": 0, \"sum\": 0.0, \"min\": 0}, \"Total Batches Seen\": {\"count\": 1, \"max\": 0, \"sum\": 0.0, \"min\": 0}, \"Total Records Seen\": {\"count\": 1, \"max\": 0, \"sum\": 0.0, \"min\": 0}, \"Max Records Seen Between Resets\": {\"count\": 1, \"max\": 0, \"sum\": 0.0, \"min\": 0}, \"Reset Count\": {\"count\": 1, \"max\": 3, \"sum\": 3.0, \"min\": 3}}, \"EndTime\": 1587670251.147374, \"Dimensions\": {\"Host\": \"algo-1\", \"Meta\": \"training_data_iter\", \"Operation\": \"training\", \"Algorithm\": \"AWS/Semantic Segmentation\", \"epoch\": 2}, \"StartTime\": 1587669872.485234}\n",
      "\u001b[0m\n",
      "\u001b[34m[04/23/2020 19:31:54 INFO 140525295597376] #progress_notice. epoch: 3, iterations: 20 speed: 5.65994641725 samples/sec learning_rate: 0.000070\u001b[0m\n",
      "\u001b[34m[04/23/2020 19:32:53 INFO 140525295597376] #progress_notice. epoch: 3, iterations: 40 speed: 5.65511680866 samples/sec learning_rate: 0.000068\u001b[0m\n",
      "\u001b[34m[04/23/2020 19:33:52 INFO 140525295597376] #progress_notice. epoch: 3, iterations: 60 speed: 5.65736079272 samples/sec learning_rate: 0.000066\u001b[0m\n",
      "\u001b[34m[04/23/2020 19:34:51 INFO 140525295597376] #progress_notice. epoch: 3, iterations: 80 speed: 5.6501103815 samples/sec learning_rate: 0.000064\u001b[0m\n",
      "\u001b[34m[04/23/2020 19:35:27 INFO 140525295597376] #quality_metric. host: algo-1, epoch: 3, train loss: 0.801583224988502 .\u001b[0m\n",
      "\u001b[34m[04/23/2020 19:35:27 INFO 140525295597376] #throughput_metric. host: algo-1, epoch: 3, train throughput: 5.39281679304 samples/sec.\u001b[0m\n",
      "\u001b[34m[04/23/2020 19:35:52 INFO 140525295597376] #progress_notice. epoch: 3, iterations: 20 speed: 14.1823495126 samples/sec\u001b[0m\n",
      "\u001b[34m[04/23/2020 19:36:15 INFO 140525295597376] #progress_notice. epoch: 3, iterations: 40 speed: 14.0924464175 samples/sec\u001b[0m\n",
      "\u001b[34m[04/23/2020 19:36:38 INFO 140525295597376] #progress_notice. epoch: 3, iterations: 60 speed: 14.1090500229 samples/sec\u001b[0m\n",
      "\u001b[34m[04/23/2020 19:37:01 INFO 140525295597376] #progress_notice. epoch: 3, iterations: 80 speed: 13.9211783686 samples/sec\u001b[0m\n",
      "\u001b[34m[04/23/2020 19:37:13 INFO 140525295597376] #quality_metric. host: algo-1, epoch: 3, validation pixel_accuracy: 0.8592082947291425 .\u001b[0m\n",
      "\u001b[34m[04/23/2020 19:37:13 INFO 140525295597376] #quality_metric. host: algo-1, epoch: 3, validation mIOU: 0.5662451111983611 .\u001b[0m\n",
      "\u001b[34m[04/23/2020 19:37:13 INFO 140525295597376] #throughput_metric. host: algo-1, epoch: 3, validation throughput: 13.9305233506 samples/sec.\u001b[0m\n",
      "\u001b[34m[04/23/2020 19:37:13 INFO 140525295597376] Serializing model to /opt/ml/model/model_best.params\u001b[0m\n",
      "\u001b[34m[04/23/2020 19:37:14 INFO 140525295597376] #progress_metric: host=algo-1, completed 40 % of epochs\u001b[0m\n",
      "\u001b[34m#metrics {\"Metrics\": {\"Max Batches Seen Between Resets\": {\"count\": 1, \"max\": 0, \"sum\": 0.0, \"min\": 0}, \"Number of Batches Since Last Reset\": {\"count\": 1, \"max\": 0, \"sum\": 0.0, \"min\": 0}, \"Number of Records Since Last Reset\": {\"count\": 1, \"max\": 0, \"sum\": 0.0, \"min\": 0}, \"Total Batches Seen\": {\"count\": 1, \"max\": 0, \"sum\": 0.0, \"min\": 0}, \"Total Records Seen\": {\"count\": 1, \"max\": 0, \"sum\": 0.0, \"min\": 0}, \"Max Records Seen Between Resets\": {\"count\": 1, \"max\": 0, \"sum\": 0.0, \"min\": 0}, \"Reset Count\": {\"count\": 1, \"max\": 4, \"sum\": 4.0, \"min\": 4}}, \"EndTime\": 1587670634.067453, \"Dimensions\": {\"Host\": \"algo-1\", \"Meta\": \"training_data_iter\", \"Operation\": \"training\", \"Algorithm\": \"AWS/Semantic Segmentation\", \"epoch\": 3}, \"StartTime\": 1587670251.147649}\n",
      "\u001b[0m\n"
     ]
    },
    {
     "name": "stdout",
     "output_type": "stream",
     "text": [
      "\u001b[34m[04/23/2020 19:38:16 INFO 140525295597376] #progress_notice. epoch: 4, iterations: 20 speed: 5.63391981044 samples/sec learning_rate: 0.000061\u001b[0m\n",
      "\u001b[34m[04/23/2020 19:39:16 INFO 140525295597376] #progress_notice. epoch: 4, iterations: 40 speed: 5.66967928216 samples/sec learning_rate: 0.000059\u001b[0m\n",
      "\u001b[34m[04/23/2020 19:40:15 INFO 140525295597376] #progress_notice. epoch: 4, iterations: 60 speed: 5.66552172394 samples/sec learning_rate: 0.000057\u001b[0m\n",
      "\u001b[34m[04/23/2020 19:41:14 INFO 140525295597376] #progress_notice. epoch: 4, iterations: 80 speed: 5.66277857022 samples/sec learning_rate: 0.000054\u001b[0m\n",
      "\u001b[34m[04/23/2020 19:41:47 INFO 140525295597376] #quality_metric. host: algo-1, epoch: 4, train loss: 0.7150815394553509 .\u001b[0m\n",
      "\u001b[34m[04/23/2020 19:41:47 INFO 140525295597376] #throughput_metric. host: algo-1, epoch: 4, train throughput: 5.39106292664 samples/sec.\u001b[0m\n",
      "\u001b[34m[04/23/2020 19:42:12 INFO 140525295597376] #progress_notice. epoch: 4, iterations: 20 speed: 14.163013964 samples/sec\u001b[0m\n",
      "\u001b[34m[04/23/2020 19:42:35 INFO 140525295597376] #progress_notice. epoch: 4, iterations: 40 speed: 14.1910497389 samples/sec\u001b[0m\n",
      "\u001b[34m[04/23/2020 19:42:58 INFO 140525295597376] #progress_notice. epoch: 4, iterations: 60 speed: 14.0865923429 samples/sec\u001b[0m\n",
      "\u001b[34m[04/23/2020 19:43:21 INFO 140525295597376] #progress_notice. epoch: 4, iterations: 80 speed: 14.0511961307 samples/sec\u001b[0m\n",
      "\u001b[34m[04/23/2020 19:43:32 INFO 140525295597376] #quality_metric. host: algo-1, epoch: 4, validation pixel_accuracy: 0.8863478841613565 .\u001b[0m\n",
      "\u001b[34m[04/23/2020 19:43:32 INFO 140525295597376] #quality_metric. host: algo-1, epoch: 4, validation mIOU: 0.6275168200963891 .\u001b[0m\n",
      "\u001b[34m[04/23/2020 19:43:32 INFO 140525295597376] #throughput_metric. host: algo-1, epoch: 4, validation throughput: 13.9152694831 samples/sec.\u001b[0m\n",
      "\u001b[34m[04/23/2020 19:43:32 INFO 140525295597376] Serializing model to /opt/ml/model/model_best.params\u001b[0m\n",
      "\u001b[34m[04/23/2020 19:43:32 INFO 140525295597376] #progress_metric: host=algo-1, completed 50 % of epochs\u001b[0m\n",
      "\u001b[34m#metrics {\"Metrics\": {\"Max Batches Seen Between Resets\": {\"count\": 1, \"max\": 0, \"sum\": 0.0, \"min\": 0}, \"Number of Batches Since Last Reset\": {\"count\": 1, \"max\": 0, \"sum\": 0.0, \"min\": 0}, \"Number of Records Since Last Reset\": {\"count\": 1, \"max\": 0, \"sum\": 0.0, \"min\": 0}, \"Total Batches Seen\": {\"count\": 1, \"max\": 0, \"sum\": 0.0, \"min\": 0}, \"Total Records Seen\": {\"count\": 1, \"max\": 0, \"sum\": 0.0, \"min\": 0}, \"Max Records Seen Between Resets\": {\"count\": 1, \"max\": 0, \"sum\": 0.0, \"min\": 0}, \"Reset Count\": {\"count\": 1, \"max\": 5, \"sum\": 5.0, \"min\": 5}}, \"EndTime\": 1587671012.926937, \"Dimensions\": {\"Host\": \"algo-1\", \"Meta\": \"training_data_iter\", \"Operation\": \"training\", \"Algorithm\": \"AWS/Semantic Segmentation\", \"epoch\": 4}, \"StartTime\": 1587670634.067711}\n",
      "\u001b[0m\n",
      "\u001b[34m[04/23/2020 19:44:35 INFO 140525295597376] #progress_notice. epoch: 5, iterations: 20 speed: 5.17192642222 samples/sec learning_rate: 0.000051\u001b[0m\n",
      "\u001b[34m[04/23/2020 19:45:35 INFO 140525295597376] #progress_notice. epoch: 5, iterations: 40 speed: 5.16754964139 samples/sec learning_rate: 0.000049\u001b[0m\n",
      "\u001b[34m[04/23/2020 19:46:34 INFO 140525295597376] #progress_notice. epoch: 5, iterations: 60 speed: 5.16701569572 samples/sec learning_rate: 0.000047\u001b[0m\n",
      "\u001b[34m[04/23/2020 19:47:33 INFO 140525295597376] #progress_notice. epoch: 5, iterations: 80 speed: 5.18059908069 samples/sec learning_rate: 0.000045\u001b[0m\n",
      "\u001b[34m[04/23/2020 19:48:09 INFO 140525295597376] #quality_metric. host: algo-1, epoch: 5, train loss: 0.6653314864505893 .\u001b[0m\n",
      "\u001b[34m[04/23/2020 19:48:09 INFO 140525295597376] #throughput_metric. host: algo-1, epoch: 5, train throughput: 5.3888370308 samples/sec.\u001b[0m\n",
      "\u001b[34m[04/23/2020 19:48:34 INFO 140525295597376] #progress_notice. epoch: 5, iterations: 20 speed: 14.1103315826 samples/sec\u001b[0m\n",
      "\u001b[34m[04/23/2020 19:48:57 INFO 140525295597376] #progress_notice. epoch: 5, iterations: 40 speed: 14.0111460543 samples/sec\u001b[0m\n",
      "\u001b[34m[04/23/2020 19:49:20 INFO 140525295597376] #progress_notice. epoch: 5, iterations: 60 speed: 14.2082024912 samples/sec\u001b[0m\n",
      "\u001b[34m[04/23/2020 19:49:43 INFO 140525295597376] #progress_notice. epoch: 5, iterations: 80 speed: 14.0334281876 samples/sec\u001b[0m\n",
      "\u001b[34m[04/23/2020 19:49:55 INFO 140525295597376] #quality_metric. host: algo-1, epoch: 5, validation pixel_accuracy: 0.8885760425269726 .\u001b[0m\n",
      "\u001b[34m[04/23/2020 19:49:55 INFO 140525295597376] #quality_metric. host: algo-1, epoch: 5, validation mIOU: 0.6382974288211859 .\u001b[0m\n",
      "\u001b[34m[04/23/2020 19:49:55 INFO 140525295597376] #throughput_metric. host: algo-1, epoch: 5, validation throughput: 13.8938367283 samples/sec.\u001b[0m\n",
      "\u001b[34m[04/23/2020 19:49:56 INFO 140525295597376] Serializing model to /opt/ml/model/model_best.params\u001b[0m\n",
      "\u001b[34m[04/23/2020 19:49:56 INFO 140525295597376] #progress_metric: host=algo-1, completed 60 % of epochs\u001b[0m\n",
      "\u001b[34m#metrics {\"Metrics\": {\"Max Batches Seen Between Resets\": {\"count\": 1, \"max\": 0, \"sum\": 0.0, \"min\": 0}, \"Number of Batches Since Last Reset\": {\"count\": 1, \"max\": 0, \"sum\": 0.0, \"min\": 0}, \"Number of Records Since Last Reset\": {\"count\": 1, \"max\": 0, \"sum\": 0.0, \"min\": 0}, \"Total Batches Seen\": {\"count\": 1, \"max\": 0, \"sum\": 0.0, \"min\": 0}, \"Total Records Seen\": {\"count\": 1, \"max\": 0, \"sum\": 0.0, \"min\": 0}, \"Max Records Seen Between Resets\": {\"count\": 1, \"max\": 0, \"sum\": 0.0, \"min\": 0}, \"Reset Count\": {\"count\": 1, \"max\": 6, \"sum\": 6.0, \"min\": 6}}, \"EndTime\": 1587671396.297528, \"Dimensions\": {\"Host\": \"algo-1\", \"Meta\": \"training_data_iter\", \"Operation\": \"training\", \"Algorithm\": \"AWS/Semantic Segmentation\", \"epoch\": 5}, \"StartTime\": 1587671012.927134}\n",
      "\u001b[0m\n",
      "\u001b[34m[04/23/2020 19:50:59 INFO 140525295597376] #progress_notice. epoch: 6, iterations: 20 speed: 5.1728505155 samples/sec learning_rate: 0.000041\u001b[0m\n",
      "\u001b[34m[04/23/2020 19:51:58 INFO 140525295597376] #progress_notice. epoch: 6, iterations: 40 speed: 5.17822141017 samples/sec learning_rate: 0.000039\u001b[0m\n",
      "\u001b[34m[04/23/2020 19:52:57 INFO 140525295597376] #progress_notice. epoch: 6, iterations: 60 speed: 5.17081459931 samples/sec learning_rate: 0.000037\u001b[0m\n",
      "\u001b[34m[04/23/2020 19:53:57 INFO 140525295597376] #progress_notice. epoch: 6, iterations: 80 speed: 5.18713732033 samples/sec learning_rate: 0.000035\u001b[0m\n",
      "\u001b[34m[04/23/2020 19:54:29 INFO 140525295597376] #quality_metric. host: algo-1, epoch: 6, train loss: 0.6327514884236095 .\u001b[0m\n",
      "\u001b[34m[04/23/2020 19:54:29 INFO 140525295597376] #throughput_metric. host: algo-1, epoch: 6, train throughput: 5.38908704183 samples/sec.\u001b[0m\n",
      "\u001b[34m[04/23/2020 19:54:55 INFO 140525295597376] #progress_notice. epoch: 6, iterations: 20 speed: 13.3198123008 samples/sec\u001b[0m\n",
      "\u001b[34m[04/23/2020 19:55:17 INFO 140525295597376] #progress_notice. epoch: 6, iterations: 40 speed: 14.0993272505 samples/sec\u001b[0m\n",
      "\u001b[34m[04/23/2020 19:55:40 INFO 140525295597376] #progress_notice. epoch: 6, iterations: 60 speed: 14.1024204837 samples/sec\u001b[0m\n",
      "\u001b[34m[04/23/2020 19:56:03 INFO 140525295597376] #progress_notice. epoch: 6, iterations: 80 speed: 14.0293649551 samples/sec\u001b[0m\n",
      "\u001b[34m[04/23/2020 19:56:15 INFO 140525295597376] #quality_metric. host: algo-1, epoch: 6, validation pixel_accuracy: 0.8906038577592005 .\u001b[0m\n",
      "\u001b[34m[04/23/2020 19:56:15 INFO 140525295597376] #quality_metric. host: algo-1, epoch: 6, validation mIOU: 0.6491339679212703 .\u001b[0m\n",
      "\u001b[34m[04/23/2020 19:56:15 INFO 140525295597376] #throughput_metric. host: algo-1, epoch: 6, validation throughput: 13.9083369285 samples/sec.\u001b[0m\n",
      "\u001b[34m[04/23/2020 19:56:15 INFO 140525295597376] Serializing model to /opt/ml/model/model_best.params\u001b[0m\n",
      "\u001b[34m[04/23/2020 19:56:15 INFO 140525295597376] #progress_metric: host=algo-1, completed 70 % of epochs\u001b[0m\n",
      "\u001b[34m#metrics {\"Metrics\": {\"Max Batches Seen Between Resets\": {\"count\": 1, \"max\": 0, \"sum\": 0.0, \"min\": 0}, \"Number of Batches Since Last Reset\": {\"count\": 1, \"max\": 0, \"sum\": 0.0, \"min\": 0}, \"Number of Records Since Last Reset\": {\"count\": 1, \"max\": 0, \"sum\": 0.0, \"min\": 0}, \"Total Batches Seen\": {\"count\": 1, \"max\": 0, \"sum\": 0.0, \"min\": 0}, \"Total Records Seen\": {\"count\": 1, \"max\": 0, \"sum\": 0.0, \"min\": 0}, \"Max Records Seen Between Resets\": {\"count\": 1, \"max\": 0, \"sum\": 0.0, \"min\": 0}, \"Reset Count\": {\"count\": 1, \"max\": 7, \"sum\": 7.0, \"min\": 7}}, \"EndTime\": 1587671775.423874, \"Dimensions\": {\"Host\": \"algo-1\", \"Meta\": \"training_data_iter\", \"Operation\": \"training\", \"Algorithm\": \"AWS/Semantic Segmentation\", \"epoch\": 6}, \"StartTime\": 1587671396.297787}\n",
      "\u001b[0m\n"
     ]
    },
    {
     "name": "stdout",
     "output_type": "stream",
     "text": [
      "\u001b[34m[04/23/2020 19:57:18 INFO 140525295597376] #progress_notice. epoch: 7, iterations: 20 speed: 5.67212132646 samples/sec learning_rate: 0.000031\u001b[0m\n",
      "\u001b[34m[04/23/2020 19:58:17 INFO 140525295597376] #progress_notice. epoch: 7, iterations: 40 speed: 5.66568626375 samples/sec learning_rate: 0.000029\u001b[0m\n",
      "\u001b[34m[04/23/2020 19:59:16 INFO 140525295597376] #progress_notice. epoch: 7, iterations: 60 speed: 5.65626265327 samples/sec learning_rate: 0.000027\u001b[0m\n",
      "\u001b[34m[04/23/2020 20:00:16 INFO 140525295597376] #progress_notice. epoch: 7, iterations: 80 speed: 5.65547328626 samples/sec learning_rate: 0.000024\u001b[0m\n",
      "\u001b[34m[04/23/2020 20:00:51 INFO 140525295597376] #quality_metric. host: algo-1, epoch: 7, train loss: 0.6173880582918292 .\u001b[0m\n",
      "\u001b[34m[04/23/2020 20:00:51 INFO 140525295597376] #throughput_metric. host: algo-1, epoch: 7, train throughput: 5.39594212082 samples/sec.\u001b[0m\n",
      "\u001b[34m[04/23/2020 20:01:17 INFO 140525295597376] #progress_notice. epoch: 7, iterations: 20 speed: 14.0655384283 samples/sec\u001b[0m\n",
      "\u001b[34m[04/23/2020 20:01:39 INFO 140525295597376] #progress_notice. epoch: 7, iterations: 40 speed: 13.4189897015 samples/sec\u001b[0m\n",
      "\u001b[34m[04/23/2020 20:02:02 INFO 140525295597376] #progress_notice. epoch: 7, iterations: 60 speed: 14.1323531703 samples/sec\u001b[0m\n",
      "\u001b[34m[04/23/2020 20:02:25 INFO 140525295597376] #progress_notice. epoch: 7, iterations: 80 speed: 14.0237067556 samples/sec\u001b[0m\n",
      "\u001b[34m[04/23/2020 20:02:38 INFO 140525295597376] #quality_metric. host: algo-1, epoch: 7, validation pixel_accuracy: 0.898371634117291 .\u001b[0m\n",
      "\u001b[34m[04/23/2020 20:02:38 INFO 140525295597376] #quality_metric. host: algo-1, epoch: 7, validation mIOU: 0.6589720323969502 .\u001b[0m\n",
      "\u001b[34m[04/23/2020 20:02:38 INFO 140525295597376] #throughput_metric. host: algo-1, epoch: 7, validation throughput: 13.9259243151 samples/sec.\u001b[0m\n",
      "\u001b[34m[04/23/2020 20:02:38 INFO 140525295597376] Serializing model to /opt/ml/model/model_best.params\u001b[0m\n",
      "\u001b[34m[04/23/2020 20:02:38 INFO 140525295597376] #progress_metric: host=algo-1, completed 80 % of epochs\u001b[0m\n",
      "\u001b[34m#metrics {\"Metrics\": {\"Max Batches Seen Between Resets\": {\"count\": 1, \"max\": 0, \"sum\": 0.0, \"min\": 0}, \"Number of Batches Since Last Reset\": {\"count\": 1, \"max\": 0, \"sum\": 0.0, \"min\": 0}, \"Number of Records Since Last Reset\": {\"count\": 1, \"max\": 0, \"sum\": 0.0, \"min\": 0}, \"Total Batches Seen\": {\"count\": 1, \"max\": 0, \"sum\": 0.0, \"min\": 0}, \"Total Records Seen\": {\"count\": 1, \"max\": 0, \"sum\": 0.0, \"min\": 0}, \"Max Records Seen Between Resets\": {\"count\": 1, \"max\": 0, \"sum\": 0.0, \"min\": 0}, \"Reset Count\": {\"count\": 1, \"max\": 8, \"sum\": 8.0, \"min\": 8}}, \"EndTime\": 1587672158.56828, \"Dimensions\": {\"Host\": \"algo-1\", \"Meta\": \"training_data_iter\", \"Operation\": \"training\", \"Algorithm\": \"AWS/Semantic Segmentation\", \"epoch\": 7}, \"StartTime\": 1587671775.424104}\n",
      "\u001b[0m\n",
      "\u001b[34m[04/23/2020 20:03:41 INFO 140525295597376] #progress_notice. epoch: 8, iterations: 20 speed: 5.6627546785 samples/sec learning_rate: 0.000021\u001b[0m\n",
      "\u001b[34m[04/23/2020 20:04:40 INFO 140525295597376] #progress_notice. epoch: 8, iterations: 40 speed: 5.65947768993 samples/sec learning_rate: 0.000018\u001b[0m\n",
      "\u001b[34m[04/23/2020 20:05:40 INFO 140525295597376] #progress_notice. epoch: 8, iterations: 60 speed: 5.65876090685 samples/sec learning_rate: 0.000016\u001b[0m\n",
      "\u001b[34m[04/23/2020 20:06:39 INFO 140525295597376] #progress_notice. epoch: 8, iterations: 80 speed: 5.63373535485 samples/sec learning_rate: 0.000013\u001b[0m\n",
      "\u001b[34m[04/23/2020 20:07:12 INFO 140525295597376] #quality_metric. host: algo-1, epoch: 8, train loss: 0.5373746209092193 .\u001b[0m\n",
      "\u001b[34m[04/23/2020 20:07:12 INFO 140525295597376] #throughput_metric. host: algo-1, epoch: 8, train throughput: 5.38408674861 samples/sec.\u001b[0m\n",
      "\u001b[34m[04/23/2020 20:07:37 INFO 140525295597376] #progress_notice. epoch: 8, iterations: 20 speed: 13.7352271662 samples/sec\u001b[0m\n",
      "\u001b[34m[04/23/2020 20:08:00 INFO 140525295597376] #progress_notice. epoch: 8, iterations: 40 speed: 14.1008914747 samples/sec\u001b[0m\n",
      "\u001b[34m[04/23/2020 20:08:23 INFO 140525295597376] #progress_notice. epoch: 8, iterations: 60 speed: 14.0598893124 samples/sec\u001b[0m\n",
      "\u001b[34m[04/23/2020 20:08:46 INFO 140525295597376] #progress_notice. epoch: 8, iterations: 80 speed: 13.974567564 samples/sec\u001b[0m\n",
      "\u001b[34m[04/23/2020 20:08:59 INFO 140525295597376] #quality_metric. host: algo-1, epoch: 8, validation pixel_accuracy: 0.8946037480146497 .\u001b[0m\n",
      "\u001b[34m[04/23/2020 20:08:59 INFO 140525295597376] #quality_metric. host: algo-1, epoch: 8, validation mIOU: 0.6613256252045014 .\u001b[0m\n",
      "\u001b[34m[04/23/2020 20:08:59 INFO 140525295597376] #throughput_metric. host: algo-1, epoch: 8, validation throughput: 13.8854879473 samples/sec.\u001b[0m\n",
      "\u001b[34m[04/23/2020 20:08:59 INFO 140525295597376] Serializing model to /opt/ml/model/model_best.params\u001b[0m\n",
      "\u001b[34m[04/23/2020 20:08:59 INFO 140525295597376] #progress_metric: host=algo-1, completed 90 % of epochs\u001b[0m\n",
      "\u001b[34m#metrics {\"Metrics\": {\"Max Batches Seen Between Resets\": {\"count\": 1, \"max\": 0, \"sum\": 0.0, \"min\": 0}, \"Number of Batches Since Last Reset\": {\"count\": 1, \"max\": 0, \"sum\": 0.0, \"min\": 0}, \"Number of Records Since Last Reset\": {\"count\": 1, \"max\": 0, \"sum\": 0.0, \"min\": 0}, \"Total Batches Seen\": {\"count\": 1, \"max\": 0, \"sum\": 0.0, \"min\": 0}, \"Total Records Seen\": {\"count\": 1, \"max\": 0, \"sum\": 0.0, \"min\": 0}, \"Max Records Seen Between Resets\": {\"count\": 1, \"max\": 0, \"sum\": 0.0, \"min\": 0}, \"Reset Count\": {\"count\": 1, \"max\": 9, \"sum\": 9.0, \"min\": 9}}, \"EndTime\": 1587672539.348221, \"Dimensions\": {\"Host\": \"algo-1\", \"Meta\": \"training_data_iter\", \"Operation\": \"training\", \"Algorithm\": \"AWS/Semantic Segmentation\", \"epoch\": 8}, \"StartTime\": 1587672158.568477}\n",
      "\u001b[0m\n",
      "\u001b[34m[04/23/2020 20:10:02 INFO 140525295597376] #progress_notice. epoch: 9, iterations: 20 speed: 5.14411697296 samples/sec learning_rate: 0.000009\u001b[0m\n",
      "\u001b[34m[04/23/2020 20:11:01 INFO 140525295597376] #progress_notice. epoch: 9, iterations: 40 speed: 5.16420733578 samples/sec learning_rate: 0.000007\u001b[0m\n",
      "\u001b[34m#metrics {\"Metrics\": {\"Max Batches Seen Between Resets\": {\"count\": 1, \"max\": 0, \"sum\": 0.0, \"min\": 0}, \"Number of Batches Since Last Reset\": {\"count\": 1, \"max\": 0, \"sum\": 0.0, \"min\": 0}, \"Number of Records Since Last Reset\": {\"count\": 1, \"max\": 0, \"sum\": 0.0, \"min\": 0}, \"Total Batches Seen\": {\"count\": 1, \"max\": 0, \"sum\": 0.0, \"min\": 0}, \"Total Records Seen\": {\"count\": 1, \"max\": 0, \"sum\": 0.0, \"min\": 0}, \"Max Records Seen Between Resets\": {\"count\": 1, \"max\": 0, \"sum\": 0.0, \"min\": 0}, \"Reset Count\": {\"count\": 1, \"max\": 10, \"sum\": 10.0, \"min\": 10}}, \"EndTime\": 1587672682.240451, \"Dimensions\": {\"Host\": \"algo-1\", \"Meta\": \"training_data_iter\", \"Operation\": \"training\", \"Algorithm\": \"AWS/Semantic Segmentation\", \"epoch\": 9}, \"StartTime\": 1587672539.34849}\n",
      "\u001b[0m\n",
      "\u001b[34mTraceback (most recent call last):\n",
      "  File \"/opt/amazon/bin/sagemaker-train\", line 11, in <module>\n",
      "    load_entry_point('AIAlgorithmsSDK==1.0', 'console_scripts', 'sagemaker-train')()\n",
      "  File \"/opt/amazon/lib/python2.7/site-packages/ai_algorithms_sdk/train.py\", line 75, in main\n",
      "    worker(cfg)\n",
      "  File \"/opt/amazon/lib/python2.7/site-packages/ai_algorithms_sdk/train.py\", line 397, in _run_worker\n",
      "    _execute_train(algo, cfg, training_data_iter, validation_data_iter, checkpoint_manager)\n",
      "  File \"/opt/amazon/lib/python2.7/site-packages/ai_algorithms_sdk/train.py\", line 252, in _execute_train\n",
      "    result = algo.update(training_data_iter, validation_data_iter, epoch=epoch)\n",
      "  File \"/opt/amazon/lib/python2.7/site-packages/algorithm/algo.py\", line 87, in update\n",
      "    train_loss, speed = self.controller.train(train_iter=train_iter._iterator, epoch=epoch)\n",
      "  File \"/opt/amazon/lib/python2.7/site-packages/algorithm/trainer.py\", line 156, in train\n",
      "    mx.nd.waitall()\n",
      "  File \"/opt/amazon/lib/python2.7/site-packages/mxnet/ndarray/ndarray.py\", line 161, in waitall\n",
      "    check_call(_LIB.MXNDArrayWaitAll())\u001b[0m\n",
      "\u001b[34mKeyboardInterrupt\u001b[0m\n",
      "\n",
      "2020-04-23 20:11:42 Stopping - Stopping the training job\n",
      "2020-04-23 20:11:42 Uploading - Uploading generated training model\n",
      "2020-04-23 20:12:15 MaxRuntimeExceeded - Training job runtime exceeded MaxRuntimeInSeconds provided\n",
      "Training seconds: 3724\n",
      "Billable seconds: 1117\n",
      "Managed Spot Training savings: 70.0%\n"
     ]
    }
   ],
   "source": [
    "ss_model.fit(inputs=data_channels, logs=True)"
   ]
  },
  {
   "cell_type": "code",
   "execution_count": null,
   "metadata": {},
   "outputs": [],
   "source": []
  }
 ],
 "metadata": {
  "kernelspec": {
   "display_name": "Python 3",
   "language": "python",
   "name": "python3"
  },
  "language_info": {
   "codemirror_mode": {
    "name": "ipython",
    "version": 3
   },
   "file_extension": ".py",
   "mimetype": "text/x-python",
   "name": "python",
   "nbconvert_exporter": "python",
   "pygments_lexer": "ipython3",
   "version": "3.7.4"
  }
 },
 "nbformat": 4,
 "nbformat_minor": 2
}
